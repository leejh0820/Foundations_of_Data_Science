{
 "cells": [
  {
   "cell_type": "code",
   "execution_count": 44,
   "id": "d058f28b",
   "metadata": {
    "deletable": false,
    "editable": false
   },
   "outputs": [],
   "source": [
    "# Initialize Otter\n",
    "import otter\n",
    "grader = otter.Notebook(\"lab09.ipynb\")"
   ]
  },
  {
   "cell_type": "markdown",
   "id": "b1f0e48a",
   "metadata": {},
   "source": [
    "# Lab 9: Regression\n",
    "\n",
    "Welcome to Lab 9!\n",
    "\n",
    "Today we will get some hands-on practice with linear regression. You can find more information about this topic in\n",
    "[Chapter 15.2](https://www.inferentialthinking.com/chapters/15/2/Regression_Line.html#the-regression-line).\n",
    "\n",
    "**Lab Queue**: You can find the Lab Queue at [lab.data8.org](https://lab.data8.org/). Whenever you feel stuck or need some further clarification, add yourself to the queue to get help from a GSI or academic intern! Please list your breakout room number and purpose on your ticket!\n",
    "\n",
    "**Deadline**: If you are not attending lab, you have to complete this lab and submit by **Friday, 11/12 before 12:00 P.M. PT** in order to receive lab credit. Otherwise, please attend the lab you are enrolled in, get checked off with your GSI or academic intern **AND** submit this assignment by the end of the lab section (with whatever progress you've made) to receive lab credit.\n",
    "\n",
    "**Submission**: Once you're finished, scroll up to the top of the page, and run every cell in the notebook.  Select \"Save and Checkpoint\" in the File menu (please don’t hit Save As), then rerun the last cell of the notebook.  The result will contain a zip file that you can submit to Gradescope. If you are in lab, you can submit a ticket on lab.data8.org to ask a staff member to check you off. "
   ]
  },
  {
   "cell_type": "code",
   "execution_count": 2,
   "id": "53877ca2",
   "metadata": {
    "execution": {
     "iopub.execute_input": "2021-11-08T17:37:52.947734Z",
     "iopub.status.busy": "2021-11-08T17:37:52.947091Z",
     "iopub.status.idle": "2021-11-08T17:37:56.048148Z",
     "shell.execute_reply": "2021-11-08T17:37:56.047571Z"
    }
   },
   "outputs": [],
   "source": [
    "# Run this cell, but please don't change it.\n",
    "\n",
    "# These lines import the Numpy and Datascience modules.\n",
    "import numpy as np\n",
    "from datascience import *\n",
    "\n",
    "# These lines do some fancy plotting magic.\n",
    "import matplotlib\n",
    "%matplotlib inline\n",
    "import matplotlib.pyplot as plots\n",
    "plots.style.use('fivethirtyeight')\n",
    "import warnings\n",
    "warnings.simplefilter('ignore', FutureWarning)\n",
    "\n",
    "import d8error"
   ]
  },
  {
   "cell_type": "markdown",
   "id": "b7f498b0",
   "metadata": {},
   "source": [
    "# 1. How Faithful is Old Faithful? \n",
    "\n",
    "Old Faithful is a geyser in Yellowstone National Park that is famous for eruption on a fairly regular schedule. Run the cell below to see Old Faithful in action!"
   ]
  },
  {
   "cell_type": "code",
   "execution_count": 3,
   "id": "7ad44c90",
   "metadata": {
    "execution": {
     "iopub.execute_input": "2021-11-08T17:37:56.062712Z",
     "iopub.status.busy": "2021-11-08T17:37:56.062121Z",
     "iopub.status.idle": "2021-11-08T17:37:56.126394Z",
     "shell.execute_reply": "2021-11-08T17:37:56.125817Z"
    }
   },
   "outputs": [
    {
     "data": {
      "image/jpeg": "[encoded data removed]",
      "text/html": [
       "\n",
       "        <iframe\n",
       "            width=\"400\"\n",
       "            height=\"300\"\n",
       "            src=\"https://www.youtube.com/embed/wE8NDuzt8eg\"\n",
       "            frameborder=\"0\"\n",
       "            allowfullscreen\n",
       "            \n",
       "        ></iframe>\n",
       "        "
      ],
      "text/plain": [
       "<IPython.lib.display.YouTubeVideo at 0x7f8b5b57f7c0>"
      ]
     },
     "execution_count": 3,
     "metadata": {},
     "output_type": "execute_result"
    }
   ],
   "source": [
    "# For the curious: this is how to display a YouTube video in a\n",
    "# Jupyter notebook.  The argument to YouTubeVideo is the part\n",
    "# of the URL (called a \"query parameter\") that identifies the\n",
    "# video.  For example, the full URL for this video is:\n",
    "#   https://www.youtube.com/watch?v=wE8NDuzt8eg\n",
    "from IPython.display import YouTubeVideo\n",
    "YouTubeVideo(\"wE8NDuzt8eg\")"
   ]
  },
  {
   "cell_type": "markdown",
   "id": "9602b026",
   "metadata": {},
   "source": [
    "Some of Old Faithful's eruptions last longer than others.  Whenever there is a long eruption, it is usually followed by an even longer wait before the next eruption. If you visit Yellowstone, you might want to predict when the next eruption will happen, so that you can see the rest of the park instead of waiting by the geyser.\n",
    " \n",
    "Today, we will use a dataset on eruption durations and waiting times to see if we can make such predictions accurately with linear regression.\n",
    "\n",
    "The dataset has one row for each observed eruption.  It includes the following columns:\n",
    "- `duration`: Eruption duration, in minutes\n",
    "- `wait`: Time between this eruption and the next, also in minutes\n",
    "\n",
    "Run the next cell to load the dataset."
   ]
  },
  {
   "cell_type": "code",
   "execution_count": 4,
   "id": "ebcbfc42",
   "metadata": {
    "execution": {
     "iopub.execute_input": "2021-11-08T17:37:56.131009Z",
     "iopub.status.busy": "2021-11-08T17:37:56.130449Z",
     "iopub.status.idle": "2021-11-08T17:37:56.140613Z",
     "shell.execute_reply": "2021-11-08T17:37:56.140028Z"
    }
   },
   "outputs": [
    {
     "data": {
      "text/html": [
       "<table border=\"1\" class=\"dataframe\">\n",
       "    <thead>\n",
       "        <tr>\n",
       "            <th>duration</th> <th>wait</th>\n",
       "        </tr>\n",
       "    </thead>\n",
       "    <tbody>\n",
       "        <tr>\n",
       "            <td>3.6     </td> <td>79  </td>\n",
       "        </tr>\n",
       "        <tr>\n",
       "            <td>1.8     </td> <td>54  </td>\n",
       "        </tr>\n",
       "        <tr>\n",
       "            <td>3.333   </td> <td>74  </td>\n",
       "        </tr>\n",
       "        <tr>\n",
       "            <td>2.283   </td> <td>62  </td>\n",
       "        </tr>\n",
       "        <tr>\n",
       "            <td>4.533   </td> <td>85  </td>\n",
       "        </tr>\n",
       "        <tr>\n",
       "            <td>2.883   </td> <td>55  </td>\n",
       "        </tr>\n",
       "        <tr>\n",
       "            <td>4.7     </td> <td>88  </td>\n",
       "        </tr>\n",
       "        <tr>\n",
       "            <td>3.6     </td> <td>85  </td>\n",
       "        </tr>\n",
       "        <tr>\n",
       "            <td>1.95    </td> <td>51  </td>\n",
       "        </tr>\n",
       "        <tr>\n",
       "            <td>4.35    </td> <td>85  </td>\n",
       "        </tr>\n",
       "    </tbody>\n",
       "</table>\n",
       "<p>... (262 rows omitted)</p>"
      ],
      "text/plain": [
       "duration | wait\n",
       "3.6      | 79\n",
       "1.8      | 54\n",
       "3.333    | 74\n",
       "2.283    | 62\n",
       "4.533    | 85\n",
       "2.883    | 55\n",
       "4.7      | 88\n",
       "3.6      | 85\n",
       "1.95     | 51\n",
       "4.35     | 85\n",
       "... (262 rows omitted)"
      ]
     },
     "execution_count": 4,
     "metadata": {},
     "output_type": "execute_result"
    }
   ],
   "source": [
    "faithful = Table.read_table(\"faithful.csv\")\n",
    "faithful"
   ]
  },
  {
   "cell_type": "markdown",
   "id": "1a312a31",
   "metadata": {
    "deletable": false,
    "editable": false
   },
   "source": [
    "**Question 1.0.** The following statements are the unordered steps of linear regression.  \n",
    "\n",
    "1. Compute the parameters of the regression line: the slope and the intercept. \n",
    "2. Evaluate the regression line by computing the line’s RMSE and analyzing the residuals plot. \n",
    "3. Use the regression line to generate predictions for each x value. \n",
    "4. Determine if linear regression is a reasonable method by visualizing your data and computing the correlation coefficient. \n",
    "\n",
    "Make an array called `least_squares_order` that contains the correct order of a linear regression analysis, where the first item of the array is the first step of an linear regression analysis and the last item of the array is the last step of an linear regression analysis.\n",
    "\n",
    "<!--\n",
    "BEGIN QUESTION\n",
    "name: q1_0\n",
    "-->"
   ]
  },
  {
   "cell_type": "code",
   "execution_count": 5,
   "id": "aecc66c4",
   "metadata": {
    "execution": {
     "iopub.execute_input": "2021-11-08T17:37:56.144940Z",
     "iopub.status.busy": "2021-11-08T17:37:56.144383Z",
     "iopub.status.idle": "2021-11-08T17:37:56.146989Z",
     "shell.execute_reply": "2021-11-08T17:37:56.146546Z"
    }
   },
   "outputs": [],
   "source": [
    "least_squares_order = [4, 1, 3, 2]"
   ]
  },
  {
   "cell_type": "code",
   "execution_count": 6,
   "id": "b1405813",
   "metadata": {
    "deletable": false,
    "editable": false
   },
   "outputs": [
    {
     "data": {
      "text/html": [
       "<p><strong><pre style='display: inline;'>q1_0</pre></strong> passed!</p>"
      ],
      "text/plain": [
       "q1_0 results: All test cases passed!"
      ]
     },
     "execution_count": 6,
     "metadata": {},
     "output_type": "execute_result"
    }
   ],
   "source": [
    "grader.check(\"q1_0\")"
   ]
  },
  {
   "cell_type": "markdown",
   "id": "704d3cc3",
   "metadata": {},
   "source": [
    "We would like to use linear regression to make predictions, but that won't work well if the data aren't roughly linearly related.  To check that, we should look at the data."
   ]
  },
  {
   "cell_type": "markdown",
   "id": "e00240cb",
   "metadata": {
    "deletable": false,
    "editable": false
   },
   "source": [
    "**Question 1.1.** Make a scatter plot of the data.  It's conventional to put the column we want to predict on the vertical axis and the other column on the horizontal axis.\n",
    "\n",
    "<!--\n",
    "BEGIN QUESTION\n",
    "name: q1_1\n",
    "-->"
   ]
  },
  {
   "cell_type": "code",
   "execution_count": 7,
   "id": "d54edaa8",
   "metadata": {
    "execution": {
     "iopub.execute_input": "2021-11-08T17:37:56.254323Z",
     "iopub.status.busy": "2021-11-08T17:37:56.229346Z",
     "iopub.status.idle": "2021-11-08T17:37:56.661938Z",
     "shell.execute_reply": "2021-11-08T17:37:56.661477Z"
    }
   },
   "outputs": [
    {
     "data": {
      "image/png": "[encoded data removed]",
      "text/plain": [
       "<Figure size 360x360 with 1 Axes>"
      ]
     },
     "metadata": {},
     "output_type": "display_data"
    }
   ],
   "source": [
    "faithful.scatter('duration')"
   ]
  },
  {
   "cell_type": "markdown",
   "id": "216a84bf",
   "metadata": {
    "deletable": false,
    "editable": false
   },
   "source": [
    "**Question 1.2.** Are eruption duration and waiting time roughly linearly related based on the scatter plot above? Is this relationship positive?\n",
    "\n",
    "<!--\n",
    "BEGIN QUESTION\n",
    "name: q1_2\n",
    "-->"
   ]
  },
  {
   "cell_type": "markdown",
   "id": "9d38860a",
   "metadata": {},
   "source": [
    "\n",
    "Yes, they are eruption duration and waiting time roughly linearly related based on the scatter plot. And the relationship is positive. This means longer eruptions have longer waiting times."
   ]
  },
  {
   "cell_type": "markdown",
   "id": "f7e79a14",
   "metadata": {},
   "source": [
    "We're going to continue with the assumption that they are linearly related, so it's reasonable to use linear regression to analyze this data.\n",
    "\n",
    "We'd next like to plot the data in standard units. If you don't remember the definition of standard units, textbook section [14.2](https://www.inferentialthinking.com/chapters/14/2/Variability.html#standard-units) might help!"
   ]
  },
  {
   "cell_type": "markdown",
   "id": "4d4d4ae6",
   "metadata": {
    "deletable": false,
    "editable": false
   },
   "source": [
    "**Question 1.3.** Compute the mean and standard deviation of the eruption durations and waiting times.  **Then** create a table called `faithful_standard` containing the eruption durations and waiting times in standard units.  The columns should be named `duration (standard units)` and `wait (standard units)`.\n",
    "\n",
    "<!--\n",
    "BEGIN QUESTION\n",
    "name: q1_3\n",
    "-->"
   ]
  },
  {
   "cell_type": "code",
   "execution_count": 8,
   "id": "e99c26fc",
   "metadata": {
    "execution": {
     "iopub.execute_input": "2021-11-08T17:37:56.722736Z",
     "iopub.status.busy": "2021-11-08T17:37:56.721653Z",
     "iopub.status.idle": "2021-11-08T17:37:56.725668Z",
     "shell.execute_reply": "2021-11-08T17:37:56.725207Z"
    },
    "for_assignment_type": "solution"
   },
   "outputs": [
    {
     "data": {
      "text/html": [
       "<table border=\"1\" class=\"dataframe\">\n",
       "    <thead>\n",
       "        <tr>\n",
       "            <th>duration (standard units)</th> <th>wait (standard units)</th>\n",
       "        </tr>\n",
       "    </thead>\n",
       "    <tbody>\n",
       "        <tr>\n",
       "            <td>0.0984989                </td> <td>0.597123             </td>\n",
       "        </tr>\n",
       "        <tr>\n",
       "            <td>-1.48146                 </td> <td>-1.24518             </td>\n",
       "        </tr>\n",
       "        <tr>\n",
       "            <td>-0.135861                </td> <td>0.228663             </td>\n",
       "        </tr>\n",
       "        <tr>\n",
       "            <td>-1.0575                  </td> <td>-0.655644            </td>\n",
       "        </tr>\n",
       "        <tr>\n",
       "            <td>0.917443                 </td> <td>1.03928              </td>\n",
       "        </tr>\n",
       "        <tr>\n",
       "            <td>-0.530851                </td> <td>-1.17149             </td>\n",
       "        </tr>\n",
       "        <tr>\n",
       "            <td>1.06403                  </td> <td>1.26035              </td>\n",
       "        </tr>\n",
       "        <tr>\n",
       "            <td>0.0984989                </td> <td>1.03928              </td>\n",
       "        </tr>\n",
       "        <tr>\n",
       "            <td>-1.3498                  </td> <td>-1.46626             </td>\n",
       "        </tr>\n",
       "        <tr>\n",
       "            <td>0.756814                 </td> <td>1.03928              </td>\n",
       "        </tr>\n",
       "    </tbody>\n",
       "</table>\n",
       "<p>... (262 rows omitted)</p>"
      ],
      "text/plain": [
       "duration (standard units) | wait (standard units)\n",
       "0.0984989                 | 0.597123\n",
       "-1.48146                  | -1.24518\n",
       "-0.135861                 | 0.228663\n",
       "-1.0575                   | -0.655644\n",
       "0.917443                  | 1.03928\n",
       "-0.530851                 | -1.17149\n",
       "1.06403                   | 1.26035\n",
       "0.0984989                 | 1.03928\n",
       "-1.3498                   | -1.46626\n",
       "0.756814                  | 1.03928\n",
       "... (262 rows omitted)"
      ]
     },
     "execution_count": 8,
     "metadata": {},
     "output_type": "execute_result"
    }
   ],
   "source": [
    "duration_mean = np.mean(faithful.column('duration'))\n",
    "duration_std = np.std(faithful.column('duration'))\n",
    "wait_mean = np.mean(faithful.column('wait'))\n",
    "wait_std = np.std(faithful.column('wait'))\n",
    "\n",
    "faithful_standard = Table().with_columns(\n",
    "    \"duration (standard units)\", (faithful.column('duration') - duration_mean) / duration_std,\n",
    "    \"wait (standard units)\", (faithful.column('wait') - wait_mean) / wait_std)\n",
    "faithful_standard"
   ]
  },
  {
   "cell_type": "code",
   "execution_count": 9,
   "id": "f5230640",
   "metadata": {
    "deletable": false,
    "editable": false
   },
   "outputs": [
    {
     "data": {
      "text/html": [
       "<p><strong><pre style='display: inline;'>q1_3</pre></strong> passed!</p>"
      ],
      "text/plain": [
       "q1_3 results: All test cases passed!"
      ]
     },
     "execution_count": 9,
     "metadata": {},
     "output_type": "execute_result"
    }
   ],
   "source": [
    "grader.check(\"q1_3\")"
   ]
  },
  {
   "cell_type": "markdown",
   "id": "6d4b88d1",
   "metadata": {
    "deletable": false,
    "editable": false
   },
   "source": [
    "**Question 1.4.** Plot the data again, but this time in standard units.\n",
    "\n",
    "<!--\n",
    "BEGIN QUESTION\n",
    "name: q1_4\n",
    "-->"
   ]
  },
  {
   "cell_type": "code",
   "execution_count": 10,
   "id": "df3d2721",
   "metadata": {
    "execution": {
     "iopub.execute_input": "2021-11-08T17:37:56.954670Z",
     "iopub.status.busy": "2021-11-08T17:37:56.941867Z",
     "iopub.status.idle": "2021-11-08T17:37:57.443830Z",
     "shell.execute_reply": "2021-11-08T17:37:57.444256Z"
    }
   },
   "outputs": [
    {
     "data": {
      "image/png": "[encoded data removed]",
      "text/plain": [
       "<Figure size 360x360 with 1 Axes>"
      ]
     },
     "metadata": {},
     "output_type": "display_data"
    }
   ],
   "source": [
    "faithful_standard.scatter(0)"
   ]
  },
  {
   "cell_type": "markdown",
   "id": "a7be3a57",
   "metadata": {},
   "source": [
    "You'll notice that this plot looks the same as the last one!  However, the data and axes are scaled differently.  So it's important to read the ticks on the axes."
   ]
  },
  {
   "cell_type": "markdown",
   "id": "e2a13db4",
   "metadata": {
    "deletable": false,
    "editable": false
   },
   "source": [
    "**Question 1.5.** Among the following numbers, which would you guess is closest to the correlation between eruption duration and waiting time in this dataset?\n",
    "\n",
    "1. -1\n",
    "2. 0\n",
    "3. 1\n",
    "\n",
    "Assign `correlation` to the number corresponding to your guess (either 1, 2 or 3).\n",
    "\n",
    "<!--\n",
    "BEGIN QUESTION\n",
    "name: q1_5\n",
    "-->"
   ]
  },
  {
   "cell_type": "code",
   "execution_count": 11,
   "id": "9c460fba",
   "metadata": {
    "execution": {
     "iopub.execute_input": "2021-11-08T17:37:57.448680Z",
     "iopub.status.busy": "2021-11-08T17:37:57.448105Z",
     "iopub.status.idle": "2021-11-08T17:37:57.450182Z",
     "shell.execute_reply": "2021-11-08T17:37:57.450647Z"
    }
   },
   "outputs": [],
   "source": [
    "correlation = 3"
   ]
  },
  {
   "cell_type": "code",
   "execution_count": 12,
   "id": "092fa107",
   "metadata": {
    "deletable": false,
    "editable": false
   },
   "outputs": [
    {
     "data": {
      "text/html": [
       "<p><strong><pre style='display: inline;'>q1_5</pre></strong> passed!</p>"
      ],
      "text/plain": [
       "q1_5 results: All test cases passed!"
      ]
     },
     "execution_count": 12,
     "metadata": {},
     "output_type": "execute_result"
    }
   ],
   "source": [
    "grader.check(\"q1_5\")"
   ]
  },
  {
   "cell_type": "markdown",
   "id": "4bb57809",
   "metadata": {
    "deletable": false,
    "editable": false
   },
   "source": [
    "**Question 1.6.** Compute the correlation `r`.  \n",
    "\n",
    "*Hint:* Use `faithful_standard`.  Section [15.1](https://www.inferentialthinking.com/chapters/15/1/Correlation.html#calculating-r) explains how to do this.\n",
    "\n",
    "\n",
    "<!--\n",
    "BEGIN QUESTION\n",
    "name: q1_6\n",
    "-->"
   ]
  },
  {
   "cell_type": "code",
   "execution_count": 13,
   "id": "338b2d81",
   "metadata": {
    "execution": {
     "iopub.execute_input": "2021-11-08T17:37:57.524708Z",
     "iopub.status.busy": "2021-11-08T17:37:57.524064Z",
     "iopub.status.idle": "2021-11-08T17:37:57.527998Z",
     "shell.execute_reply": "2021-11-08T17:37:57.527533Z"
    }
   },
   "outputs": [
    {
     "data": {
      "text/plain": [
       "0.9008111683218132"
      ]
     },
     "execution_count": 13,
     "metadata": {},
     "output_type": "execute_result"
    }
   ],
   "source": [
    "r = np.mean(faithful_standard.column(0) * faithful_standard.column(1))\n",
    "r"
   ]
  },
  {
   "cell_type": "code",
   "execution_count": 14,
   "id": "378462bd",
   "metadata": {
    "deletable": false,
    "editable": false
   },
   "outputs": [
    {
     "data": {
      "text/html": [
       "<p><strong><pre style='display: inline;'>q1_6</pre></strong> passed!</p>"
      ],
      "text/plain": [
       "q1_6 results: All test cases passed!"
      ]
     },
     "execution_count": 14,
     "metadata": {},
     "output_type": "execute_result"
    }
   ],
   "source": [
    "grader.check(\"q1_6\")"
   ]
  },
  {
   "cell_type": "markdown",
   "id": "d2f49eeb",
   "metadata": {},
   "source": [
    "## 2. The regression line\n",
    "Recall that the **correlation** is the **slope of the regression line when the data are put in standard units**.\n",
    "\n",
    "The next cell plots the regression line in standard units:\n",
    "\n",
    "$$\\text{waiting time in standard units} = r \\times \\text{eruption duration in standard units}$$\n",
    "\n",
    "Then, it plots the data in standard units again, for comparison."
   ]
  },
  {
   "cell_type": "code",
   "execution_count": 15,
   "id": "525582fa",
   "metadata": {
    "execution": {
     "iopub.execute_input": "2021-11-08T17:37:57.632898Z",
     "iopub.status.busy": "2021-11-08T17:37:57.555543Z",
     "iopub.status.idle": "2021-11-08T17:37:58.225835Z",
     "shell.execute_reply": "2021-11-08T17:37:58.225262Z"
    }
   },
   "outputs": [
    {
     "data": {
      "image/png": "[encoded data removed]",
      "text/plain": [
       "<Figure size 360x360 with 1 Axes>"
      ]
     },
     "metadata": {},
     "output_type": "display_data"
    }
   ],
   "source": [
    "def plot_data_and_line(dataset, x, y, point_0, point_1):\n",
    "    \"\"\"Makes a scatter plot of the dataset, along with a line passing through two points.\"\"\"\n",
    "    dataset.scatter(x, y, label=\"data\")\n",
    "    xs, ys = zip(point_0, point_1)\n",
    "    plots.plot(xs, ys, label=\"regression line\")\n",
    "    plots.legend(bbox_to_anchor=(1.5,.8))\n",
    "\n",
    "plot_data_and_line(faithful_standard, \n",
    "                   \"duration (standard units)\", \n",
    "                   \"wait (standard units)\", \n",
    "                   [-2, -2*r], \n",
    "                   [2, 2*r])"
   ]
  },
  {
   "cell_type": "markdown",
   "id": "31fcce62",
   "metadata": {
    "deletable": false,
    "editable": false
   },
   "source": [
    "How would you take a point in standard units and convert it back to original units?  We'd have to \"stretch\" its horizontal position by `duration_std` and its vertical position by `wait_std`. That means the same thing would happen to the slope of the line.\n",
    "\n",
    "Stretching a line horizontally makes it less steep, so we divide the slope by the stretching factor.  Stretching a line vertically makes it more steep, so we multiply the slope by the stretching factor.\n",
    "\n",
    "**Question 2.1.** Calculate the slope of the regression line in original units, and assign it to `slope`.\n",
    "\n",
    "(If the \"stretching\" explanation is unintuitive, consult section [15.2](https://www.inferentialthinking.com/chapters/15/2/Regression_Line.html#the-equation-of-the-regression-line) in the textbook.)\n",
    "\n",
    "<!--\n",
    "BEGIN QUESTION\n",
    "name: q2_1\n",
    "-->"
   ]
  },
  {
   "cell_type": "code",
   "execution_count": 16,
   "id": "170b7624",
   "metadata": {
    "execution": {
     "iopub.execute_input": "2021-11-08T17:37:58.231091Z",
     "iopub.status.busy": "2021-11-08T17:37:58.230502Z",
     "iopub.status.idle": "2021-11-08T17:37:58.233513Z",
     "shell.execute_reply": "2021-11-08T17:37:58.233920Z"
    }
   },
   "outputs": [
    {
     "data": {
      "text/plain": [
       "10.729641395133527"
      ]
     },
     "execution_count": 16,
     "metadata": {},
     "output_type": "execute_result"
    }
   ],
   "source": [
    "slope = (wait_std / duration_std) * r\n",
    "slope"
   ]
  },
  {
   "cell_type": "code",
   "execution_count": 17,
   "id": "a9886927",
   "metadata": {
    "deletable": false,
    "editable": false
   },
   "outputs": [
    {
     "data": {
      "text/html": [
       "<p><strong><pre style='display: inline;'>q2_1</pre></strong> passed!</p>"
      ],
      "text/plain": [
       "q2_1 results: All test cases passed!"
      ]
     },
     "execution_count": 17,
     "metadata": {},
     "output_type": "execute_result"
    }
   ],
   "source": [
    "grader.check(\"q2_1\")"
   ]
  },
  {
   "cell_type": "markdown",
   "id": "9f417877",
   "metadata": {
    "deletable": false,
    "editable": false
   },
   "source": [
    "We know that the regression line passes through the point `(duration_mean, wait_mean)`. Recall that the equation of the regression line in the original units is:\n",
    "\n",
    "$$\\text{waiting time} = \\text{slope} \\times \\text{eruption duration} + (- \\text{slope} \\times \\text{duration_mean + wait_mean})$$\n",
    "\n",
    "\n",
    "**Question 2.2.** Calculate the intercept in original units and assign it to `intercept`. [Section 15.2.5](https://inferentialthinking.com/chapters/15/2/Regression_Line.html#the-regression-line-in-standard-units) may be helpful.\n",
    "\n",
    "<!--\n",
    "BEGIN QUESTION\n",
    "name: q2_2\n",
    "-->"
   ]
  },
  {
   "cell_type": "code",
   "execution_count": 18,
   "id": "9935e0c2",
   "metadata": {
    "execution": {
     "iopub.execute_input": "2021-11-08T17:37:58.253656Z",
     "iopub.status.busy": "2021-11-08T17:37:58.253078Z",
     "iopub.status.idle": "2021-11-08T17:37:58.322732Z",
     "shell.execute_reply": "2021-11-08T17:37:58.322222Z"
    }
   },
   "outputs": [
    {
     "data": {
      "text/plain": [
       "33.47439702275335"
      ]
     },
     "execution_count": 18,
     "metadata": {},
     "output_type": "execute_result"
    }
   ],
   "source": [
    "intercept = slope * (- duration_mean) + wait_mean\n",
    "intercept"
   ]
  },
  {
   "cell_type": "code",
   "execution_count": 19,
   "id": "df3c255e",
   "metadata": {
    "deletable": false,
    "editable": false
   },
   "outputs": [
    {
     "data": {
      "text/html": [
       "<p><strong><pre style='display: inline;'>q2_2</pre></strong> passed!</p>"
      ],
      "text/plain": [
       "q2_2 results: All test cases passed!"
      ]
     },
     "execution_count": 19,
     "metadata": {},
     "output_type": "execute_result"
    }
   ],
   "source": [
    "grader.check(\"q2_2\")"
   ]
  },
  {
   "cell_type": "markdown",
   "id": "51385be3",
   "metadata": {
    "deletable": false,
    "editable": false
   },
   "source": [
    "## 3. Investigating the regression line\n",
    "The slope and intercept tell you exactly what the regression line looks like.  To predict the waiting time for an eruption, multiply the eruption's duration by `slope` and then add `intercept`.\n",
    "\n",
    "**Question 3.1.** Compute the predicted waiting time for an eruption that lasts 2 minutes, and for an eruption that lasts 5 minutes.\n",
    "\n",
    "<!--\n",
    "BEGIN QUESTION\n",
    "name: q3_1\n",
    "-->"
   ]
  },
  {
   "cell_type": "code",
   "execution_count": 20,
   "id": "a996ee14",
   "metadata": {
    "execution": {
     "iopub.execute_input": "2021-11-08T17:37:58.345123Z",
     "iopub.status.busy": "2021-11-08T17:37:58.344290Z",
     "iopub.status.idle": "2021-11-08T17:37:58.349214Z",
     "shell.execute_reply": "2021-11-08T17:37:58.349657Z"
    }
   },
   "outputs": [
    {
     "name": "stdout",
     "output_type": "stream",
     "text": [
      "After an eruption lasting 2 minutes, we predict you'll wait 54.933679813020404 minutes until the next eruption.\n",
      "After an eruption lasting 5 minutes, we predict you'll wait 87.12260399842098 minutes until the next eruption.\n"
     ]
    }
   ],
   "source": [
    "two_minute_predicted_waiting_time = slope * 2 + intercept\n",
    "five_minute_predicted_waiting_time = slope * 5 + intercept\n",
    "\n",
    "# Here is a helper function to print out your predictions.\n",
    "# Don't modify the code below.\n",
    "def print_prediction(duration, predicted_waiting_time):\n",
    "    print(\"After an eruption lasting\", duration,\n",
    "          \"minutes, we predict you'll wait\", predicted_waiting_time,\n",
    "          \"minutes until the next eruption.\")\n",
    "\n",
    "print_prediction(2, two_minute_predicted_waiting_time)\n",
    "print_prediction(5, five_minute_predicted_waiting_time)"
   ]
  },
  {
   "cell_type": "code",
   "execution_count": 21,
   "id": "37a35d29",
   "metadata": {
    "deletable": false,
    "editable": false
   },
   "outputs": [
    {
     "data": {
      "text/html": [
       "<p><strong><pre style='display: inline;'>q3_1</pre></strong> passed!</p>"
      ],
      "text/plain": [
       "q3_1 results: All test cases passed!"
      ]
     },
     "execution_count": 21,
     "metadata": {},
     "output_type": "execute_result"
    }
   ],
   "source": [
    "grader.check(\"q3_1\")"
   ]
  },
  {
   "cell_type": "markdown",
   "id": "60dc7fd4",
   "metadata": {},
   "source": [
    "The next cell plots the line that goes between those two points, which is (a segment of) the regression line."
   ]
  },
  {
   "cell_type": "code",
   "execution_count": 22,
   "id": "89668737",
   "metadata": {
    "execution": {
     "iopub.execute_input": "2021-11-08T17:37:58.523520Z",
     "iopub.status.busy": "2021-11-08T17:37:58.521082Z",
     "iopub.status.idle": "2021-11-08T17:37:59.031215Z",
     "shell.execute_reply": "2021-11-08T17:37:59.031633Z"
    },
    "scrolled": true
   },
   "outputs": [
    {
     "data": {
      "image/png": "[encoded data removed]",
      "text/plain": [
       "<Figure size 360x360 with 1 Axes>"
      ]
     },
     "metadata": {},
     "output_type": "display_data"
    }
   ],
   "source": [
    "plot_data_and_line(faithful, \"duration\", \"wait\", \n",
    "                   [2, two_minute_predicted_waiting_time], \n",
    "                   [5, five_minute_predicted_waiting_time])"
   ]
  },
  {
   "cell_type": "markdown",
   "id": "15a631bb",
   "metadata": {
    "deletable": false,
    "editable": false
   },
   "source": [
    "**Question 3.2.** Make predictions for the waiting time after each eruption in the `faithful` table.  (Of course, we know exactly what the waiting times were!  We are doing this so we can see how accurate our predictions are.)  Put these numbers into a column in a new table called `faithful_predictions`.  Its first row should look like this:\n",
    "\n",
    "|duration|wait|predicted wait|\n",
    "|-|-|-|\n",
    "|3.6|79|72.1011|\n",
    "\n",
    "*Hint:* Your answer can be just one line, though you are not limited to one line.  There is no need for a `for` loop; use array arithmetic instead.\n",
    "\n",
    "<!--\n",
    "BEGIN QUESTION\n",
    "name: q3_2\n",
    "-->"
   ]
  },
  {
   "cell_type": "code",
   "execution_count": 23,
   "id": "9d9ae790",
   "metadata": {
    "execution": {
     "iopub.execute_input": "2021-11-08T17:37:59.037603Z",
     "iopub.status.busy": "2021-11-08T17:37:59.037073Z",
     "iopub.status.idle": "2021-11-08T17:37:59.040540Z",
     "shell.execute_reply": "2021-11-08T17:37:59.039981Z"
    }
   },
   "outputs": [
    {
     "data": {
      "text/html": [
       "<table border=\"1\" class=\"dataframe\">\n",
       "    <thead>\n",
       "        <tr>\n",
       "            <th>duration</th> <th>wait</th> <th>predicted wait</th>\n",
       "        </tr>\n",
       "    </thead>\n",
       "    <tbody>\n",
       "        <tr>\n",
       "            <td>3.6     </td> <td>79  </td> <td>72.1011       </td>\n",
       "        </tr>\n",
       "        <tr>\n",
       "            <td>1.8     </td> <td>54  </td> <td>52.7878       </td>\n",
       "        </tr>\n",
       "        <tr>\n",
       "            <td>3.333   </td> <td>74  </td> <td>69.2363       </td>\n",
       "        </tr>\n",
       "        <tr>\n",
       "            <td>2.283   </td> <td>62  </td> <td>57.9702       </td>\n",
       "        </tr>\n",
       "        <tr>\n",
       "            <td>4.533   </td> <td>85  </td> <td>82.1119       </td>\n",
       "        </tr>\n",
       "        <tr>\n",
       "            <td>2.883   </td> <td>55  </td> <td>64.408        </td>\n",
       "        </tr>\n",
       "        <tr>\n",
       "            <td>4.7     </td> <td>88  </td> <td>83.9037       </td>\n",
       "        </tr>\n",
       "        <tr>\n",
       "            <td>3.6     </td> <td>85  </td> <td>72.1011       </td>\n",
       "        </tr>\n",
       "        <tr>\n",
       "            <td>1.95    </td> <td>51  </td> <td>54.3972       </td>\n",
       "        </tr>\n",
       "        <tr>\n",
       "            <td>4.35    </td> <td>85  </td> <td>80.1483       </td>\n",
       "        </tr>\n",
       "    </tbody>\n",
       "</table>\n",
       "<p>... (262 rows omitted)</p>"
      ],
      "text/plain": [
       "duration | wait | predicted wait\n",
       "3.6      | 79   | 72.1011\n",
       "1.8      | 54   | 52.7878\n",
       "3.333    | 74   | 69.2363\n",
       "2.283    | 62   | 57.9702\n",
       "4.533    | 85   | 82.1119\n",
       "2.883    | 55   | 64.408\n",
       "4.7      | 88   | 83.9037\n",
       "3.6      | 85   | 72.1011\n",
       "1.95     | 51   | 54.3972\n",
       "4.35     | 85   | 80.1483\n",
       "... (262 rows omitted)"
      ]
     },
     "execution_count": 23,
     "metadata": {},
     "output_type": "execute_result"
    }
   ],
   "source": [
    "faithful_predictions = faithful.with_column('predicted wait', slope * faithful.column('duration') + intercept)\n",
    "faithful_predictions"
   ]
  },
  {
   "cell_type": "code",
   "execution_count": 24,
   "id": "eed1f754",
   "metadata": {
    "deletable": false,
    "editable": false
   },
   "outputs": [
    {
     "data": {
      "text/html": [
       "<p><strong><pre style='display: inline;'>q3_2</pre></strong> passed!</p>"
      ],
      "text/plain": [
       "q3_2 results: All test cases passed!"
      ]
     },
     "execution_count": 24,
     "metadata": {},
     "output_type": "execute_result"
    }
   ],
   "source": [
    "grader.check(\"q3_2\")"
   ]
  },
  {
   "cell_type": "markdown",
   "id": "e907aa81",
   "metadata": {
    "deletable": false,
    "editable": false
   },
   "source": [
    "**Question 3.3.** How close were we?  Compute the *residual* for each eruption in the dataset.  The residual is the actual waiting time minus the predicted waiting time.  Add the residuals to `faithful_predictions` as a new column called `residual` and name the resulting table `faithful_residuals`.\n",
    "\n",
    "*Hint:* Again, your code will be much simpler if you don't use a `for` loop.\n",
    "\n",
    "<!--\n",
    "BEGIN QUESTION\n",
    "name: q3_3\n",
    "-->"
   ]
  },
  {
   "cell_type": "code",
   "execution_count": 25,
   "id": "6517f257",
   "metadata": {
    "execution": {
     "iopub.execute_input": "2021-11-08T17:37:59.127914Z",
     "iopub.status.busy": "2021-11-08T17:37:59.127357Z",
     "iopub.status.idle": "2021-11-08T17:37:59.130856Z",
     "shell.execute_reply": "2021-11-08T17:37:59.131249Z"
    }
   },
   "outputs": [
    {
     "data": {
      "text/html": [
       "<table border=\"1\" class=\"dataframe\">\n",
       "    <thead>\n",
       "        <tr>\n",
       "            <th>duration</th> <th>wait</th> <th>predicted wait</th> <th>residual</th>\n",
       "        </tr>\n",
       "    </thead>\n",
       "    <tbody>\n",
       "        <tr>\n",
       "            <td>3.6     </td> <td>79  </td> <td>72.1011       </td> <td>6.89889 </td>\n",
       "        </tr>\n",
       "        <tr>\n",
       "            <td>1.8     </td> <td>54  </td> <td>52.7878       </td> <td>1.21225 </td>\n",
       "        </tr>\n",
       "        <tr>\n",
       "            <td>3.333   </td> <td>74  </td> <td>69.2363       </td> <td>4.76371 </td>\n",
       "        </tr>\n",
       "        <tr>\n",
       "            <td>2.283   </td> <td>62  </td> <td>57.9702       </td> <td>4.02983 </td>\n",
       "        </tr>\n",
       "        <tr>\n",
       "            <td>4.533   </td> <td>85  </td> <td>82.1119       </td> <td>2.88814 </td>\n",
       "        </tr>\n",
       "        <tr>\n",
       "            <td>2.883   </td> <td>55  </td> <td>64.408        </td> <td>-9.40795</td>\n",
       "        </tr>\n",
       "        <tr>\n",
       "            <td>4.7     </td> <td>88  </td> <td>83.9037       </td> <td>4.09629 </td>\n",
       "        </tr>\n",
       "        <tr>\n",
       "            <td>3.6     </td> <td>85  </td> <td>72.1011       </td> <td>12.8989 </td>\n",
       "        </tr>\n",
       "        <tr>\n",
       "            <td>1.95    </td> <td>51  </td> <td>54.3972       </td> <td>-3.3972 </td>\n",
       "        </tr>\n",
       "        <tr>\n",
       "            <td>4.35    </td> <td>85  </td> <td>80.1483       </td> <td>4.85166 </td>\n",
       "        </tr>\n",
       "    </tbody>\n",
       "</table>\n",
       "<p>... (262 rows omitted)</p>"
      ],
      "text/plain": [
       "duration | wait | predicted wait | residual\n",
       "3.6      | 79   | 72.1011        | 6.89889\n",
       "1.8      | 54   | 52.7878        | 1.21225\n",
       "3.333    | 74   | 69.2363        | 4.76371\n",
       "2.283    | 62   | 57.9702        | 4.02983\n",
       "4.533    | 85   | 82.1119        | 2.88814\n",
       "2.883    | 55   | 64.408         | -9.40795\n",
       "4.7      | 88   | 83.9037        | 4.09629\n",
       "3.6      | 85   | 72.1011        | 12.8989\n",
       "1.95     | 51   | 54.3972        | -3.3972\n",
       "4.35     | 85   | 80.1483        | 4.85166\n",
       "... (262 rows omitted)"
      ]
     },
     "execution_count": 25,
     "metadata": {},
     "output_type": "execute_result"
    }
   ],
   "source": [
    "faithful_residuals = faithful_predictions.with_column(\"residual\", faithful_predictions.column(1) - faithful_predictions.column(2))\n",
    "faithful_residuals"
   ]
  },
  {
   "cell_type": "code",
   "execution_count": 26,
   "id": "af50bcff",
   "metadata": {
    "deletable": false,
    "editable": false
   },
   "outputs": [
    {
     "data": {
      "text/html": [
       "<p><strong><pre style='display: inline;'>q3_3</pre></strong> passed!</p>"
      ],
      "text/plain": [
       "q3_3 results: All test cases passed!"
      ]
     },
     "execution_count": 26,
     "metadata": {},
     "output_type": "execute_result"
    }
   ],
   "source": [
    "grader.check(\"q3_3\")"
   ]
  },
  {
   "cell_type": "markdown",
   "id": "c3b820c1",
   "metadata": {},
   "source": [
    "Here is a plot of the residuals you computed.  Each point corresponds to one eruption.  It shows how much our prediction over- or under-estimated the waiting time."
   ]
  },
  {
   "cell_type": "code",
   "execution_count": 27,
   "id": "b1e53774",
   "metadata": {
    "execution": {
     "iopub.execute_input": "2021-11-08T17:37:59.321919Z",
     "iopub.status.busy": "2021-11-08T17:37:59.238463Z",
     "iopub.status.idle": "2021-11-08T17:37:59.640180Z",
     "shell.execute_reply": "2021-11-08T17:37:59.639714Z"
    }
   },
   "outputs": [
    {
     "data": {
      "image/png": "[encoded data removed]",
      "text/plain": [
       "<Figure size 360x360 with 1 Axes>"
      ]
     },
     "metadata": {},
     "output_type": "display_data"
    }
   ],
   "source": [
    "faithful_residuals.scatter(\"duration\", \"residual\", color=\"r\")"
   ]
  },
  {
   "cell_type": "markdown",
   "id": "7d982d6c",
   "metadata": {},
   "source": [
    "There isn't really a pattern in the residuals, which confirms that it was reasonable to try linear regression.  It's true that there are two separate clouds; the eruption durations seemed to fall into two distinct clusters.  But that's just a pattern in the eruption durations, not a pattern in the relationship between eruption durations and waiting times."
   ]
  },
  {
   "cell_type": "markdown",
   "id": "72221af7",
   "metadata": {},
   "source": [
    "## 4. How accurate are different predictions?\n",
    "Earlier, you should have found that the correlation is fairly close to 1, so the line fits fairly well on the training data.  That means the residuals are overall small (close to 0) in comparison to the waiting times.\n",
    "\n",
    "We can see that visually by plotting the waiting times and residuals together:"
   ]
  },
  {
   "cell_type": "code",
   "execution_count": 28,
   "id": "ec8a627d",
   "metadata": {
    "execution": {
     "iopub.execute_input": "2021-11-08T17:37:59.724541Z",
     "iopub.status.busy": "2021-11-08T17:37:59.722760Z",
     "iopub.status.idle": "2021-11-08T17:38:00.323925Z",
     "shell.execute_reply": "2021-11-08T17:38:00.323434Z"
    }
   },
   "outputs": [
    {
     "data": {
      "image/png": "[encoded data removed]",
      "text/plain": [
       "<Figure size 360x360 with 1 Axes>"
      ]
     },
     "metadata": {},
     "output_type": "display_data"
    }
   ],
   "source": [
    "# Just run this cell.\n",
    "faithful_residuals.scatter(\"duration\", \"wait\", label=\"actual waiting time\", color=\"blue\")\n",
    "plots.scatter(faithful_residuals.column(\"duration\"), faithful_residuals.column(\"residual\"), label=\"residual\", color=\"r\")\n",
    "plots.plot([2, 5], [two_minute_predicted_waiting_time, five_minute_predicted_waiting_time], label=\"regression line\")\n",
    "plots.legend(bbox_to_anchor=(1.7,.8));"
   ]
  },
  {
   "cell_type": "markdown",
   "id": "60e20b13",
   "metadata": {},
   "source": [
    "However, unless you have a strong reason to believe that the linear regression model is true, you should be wary of applying your prediction model to data that are very different from the training data."
   ]
  },
  {
   "cell_type": "markdown",
   "id": "539ed905",
   "metadata": {
    "deletable": false,
    "editable": false
   },
   "source": [
    "**Question 4.1.** In `faithful`, no eruption lasted exactly 0, 2.5, or 60 minutes.  Using this line, what is the predicted waiting time for an eruption that lasts 0 minutes?  2.5 minutes?  An hour?\n",
    "\n",
    "<!--\n",
    "BEGIN QUESTION\n",
    "name: q4_1\n",
    "-->"
   ]
  },
  {
   "cell_type": "code",
   "execution_count": 29,
   "id": "97b806ef",
   "metadata": {
    "execution": {
     "iopub.execute_input": "2021-11-08T17:38:00.329297Z",
     "iopub.status.busy": "2021-11-08T17:38:00.328702Z",
     "iopub.status.idle": "2021-11-08T17:38:00.333647Z",
     "shell.execute_reply": "2021-11-08T17:38:00.333079Z"
    }
   },
   "outputs": [
    {
     "name": "stdout",
     "output_type": "stream",
     "text": [
      "After an eruption lasting 0 minutes, we predict you'll wait 33.47439702275335 minutes until the next eruption.\n",
      "After an eruption lasting 2.5 minutes, we predict you'll wait 60.29850051058717 minutes until the next eruption.\n",
      "After an eruption lasting 60 minutes, we predict you'll wait 677.252880730765 minutes until the next eruption.\n"
     ]
    }
   ],
   "source": [
    "zero_minute_predicted_waiting_time = intercept\n",
    "two_point_five_minute_predicted_waiting_time = slope * 2.5 + intercept\n",
    "hour_predicted_waiting_time = slope * 60 + intercept\n",
    "\n",
    "print_prediction(0, zero_minute_predicted_waiting_time)\n",
    "print_prediction(2.5, two_point_five_minute_predicted_waiting_time)\n",
    "print_prediction(60, hour_predicted_waiting_time)"
   ]
  },
  {
   "cell_type": "code",
   "execution_count": 30,
   "id": "780b9216",
   "metadata": {
    "deletable": false,
    "editable": false
   },
   "outputs": [
    {
     "data": {
      "text/html": [
       "<p><strong><pre style='display: inline;'>q4_1</pre></strong> passed!</p>"
      ],
      "text/plain": [
       "q4_1 results: All test cases passed!"
      ]
     },
     "execution_count": 30,
     "metadata": {},
     "output_type": "execute_result"
    }
   ],
   "source": [
    "grader.check(\"q4_1\")"
   ]
  },
  {
   "cell_type": "markdown",
   "id": "c01e9cb9",
   "metadata": {
    "deletable": false,
    "editable": false
   },
   "source": [
    "**Question 4.2.** For each prediction, state whether you think it's reliable and explain your reasoning. \n",
    "\n",
    "<!--\n",
    "BEGIN QUESTION\n",
    "name: q4_2\n",
    "-->"
   ]
  },
  {
   "cell_type": "markdown",
   "id": "1a6573df",
   "metadata": {},
   "source": [
    "\n",
    "The prediction for 2.5 is reliable, because the dataset has eruptions that are aroung that time. However, the prediction for 0 and 60 minutes should not believe. Because, the 0 minute eruption is physically impossible. And the 60 minutes eruptions is beyond the range of data we have, so we can't believe the predictions.\n"
   ]
  },
  {
   "cell_type": "markdown",
   "id": "f7b3f9d6",
   "metadata": {},
   "source": [
    "## 5. Divide and Conquer"
   ]
  },
  {
   "cell_type": "markdown",
   "id": "304ebeeb",
   "metadata": {},
   "source": [
    "It appears from the scatter diagram that there are two clusters of points: one for durations around 2 and another for durations between 3.5 and 5. A vertical line at 3 divides the two clusters."
   ]
  },
  {
   "cell_type": "code",
   "execution_count": 31,
   "id": "532c2141",
   "metadata": {
    "execution": {
     "iopub.execute_input": "2021-11-08T17:38:00.459249Z",
     "iopub.status.busy": "2021-11-08T17:38:00.452796Z",
     "iopub.status.idle": "2021-11-08T17:38:00.933602Z",
     "shell.execute_reply": "2021-11-08T17:38:00.934041Z"
    },
    "scrolled": true
   },
   "outputs": [
    {
     "data": {
      "image/png": "[encoded data removed]",
      "text/plain": [
       "<Figure size 360x360 with 1 Axes>"
      ]
     },
     "metadata": {},
     "output_type": "display_data"
    }
   ],
   "source": [
    "faithful.scatter(\"duration\", \"wait\", label=\"actual waiting time\", color=\"blue\")\n",
    "plots.plot([3, 3], [40, 100]);"
   ]
  },
  {
   "cell_type": "markdown",
   "id": "c526c65c",
   "metadata": {},
   "source": [
    "The `standardize` function from lecture appears below, which takes in a table with numerical columns and returns the same table with each column converted into standard units."
   ]
  },
  {
   "cell_type": "code",
   "execution_count": 32,
   "id": "de8e7795",
   "metadata": {
    "execution": {
     "iopub.execute_input": "2021-11-08T17:38:00.939931Z",
     "iopub.status.busy": "2021-11-08T17:38:00.939349Z",
     "iopub.status.idle": "2021-11-08T17:38:00.942021Z",
     "shell.execute_reply": "2021-11-08T17:38:00.941549Z"
    }
   },
   "outputs": [],
   "source": [
    "# Just run this cell.\n",
    "\n",
    "def standard_units(any_numbers):\n",
    "    \"Convert any array of numbers to standard units.\"\n",
    "    return (any_numbers - np.mean(any_numbers)) / np.std(any_numbers)  \n",
    "\n",
    "def standardize(t):\n",
    "    \"\"\"Return a table in which all columns of t are converted to standard units.\"\"\"\n",
    "    t_su = Table()\n",
    "    for label in t.labels:\n",
    "        t_su = t_su.with_column(label + ' (su)', standard_units(t.column(label)))\n",
    "    return t_su"
   ]
  },
  {
   "cell_type": "markdown",
   "id": "afbd4386",
   "metadata": {
    "deletable": false,
    "editable": false
   },
   "source": [
    "**Question 5.1.** Separately compute the correlation coefficient *r* for all the points with a duration below 3 **and then** for all the points with a duration above 3. To do so, create a function that computes `r` from a table, and then pass it two different tables of points, called `below_3` and `above_3`.\n",
    "\n",
    "*Hint:* You can assume that the table does not have any duration values that are exactly 3. \n",
    "\n",
    "<!--\n",
    "BEGIN QUESTION\n",
    "name: q5_1\n",
    "-->"
   ]
  },
  {
   "cell_type": "code",
   "execution_count": 33,
   "id": "58d31292",
   "metadata": {
    "execution": {
     "iopub.execute_input": "2021-11-08T17:38:00.949769Z",
     "iopub.status.busy": "2021-11-08T17:38:00.949162Z",
     "iopub.status.idle": "2021-11-08T17:38:00.952000Z",
     "shell.execute_reply": "2021-11-08T17:38:00.951436Z"
    }
   },
   "outputs": [
    {
     "name": "stdout",
     "output_type": "stream",
     "text": [
      "For points below 3, r is 0.2901895264925431 ; for points above 3, r is 0.3727822255707511\n"
     ]
    }
   ],
   "source": [
    "def corr_coeff(t):\n",
    "    \"\"\"Return the regression coefficient for columns 0 & 1.\"\"\"\n",
    "    t_su = standardize(t)\n",
    "    return np.mean(t_su.column(0) * t_su.column(1)) \n",
    "\n",
    "below_3 = faithful.where('duration', are.below(3))\n",
    "above_3 = faithful.where('duration', are.above(3))\n",
    "below_3_r = corr_coeff(below_3)\n",
    "above_3_r = corr_coeff(above_3)\n",
    "print(\"For points below 3, r is\", below_3_r, \"; for points above 3, r is\", above_3_r)"
   ]
  },
  {
   "cell_type": "code",
   "execution_count": 34,
   "id": "e59dbb96",
   "metadata": {
    "deletable": false,
    "editable": false
   },
   "outputs": [
    {
     "data": {
      "text/html": [
       "<p><strong><pre style='display: inline;'>q5_1</pre></strong> passed!</p>"
      ],
      "text/plain": [
       "q5_1 results: All test cases passed!"
      ]
     },
     "execution_count": 34,
     "metadata": {},
     "output_type": "execute_result"
    }
   ],
   "source": [
    "grader.check(\"q5_1\")"
   ]
  },
  {
   "cell_type": "markdown",
   "id": "e05c66e2",
   "metadata": {
    "deletable": false,
    "editable": false
   },
   "source": [
    "**Question 5.2.** Complete the functions `slope_of` and `intercept_of` below. \n",
    "\n",
    "When you're done, the functions `wait_below_3` and `wait_above_3` should each use a different regression line to predict a wait time for a duration. The first function should use the regression line for all points with duration below 3. The second function should use the regression line for all points with duration above 3.\n",
    "\n",
    "<!--\n",
    "BEGIN QUESTION\n",
    "name: q5_2\n",
    "-->"
   ]
  },
  {
   "cell_type": "code",
   "execution_count": 35,
   "id": "74e04269",
   "metadata": {
    "execution": {
     "iopub.execute_input": "2021-11-08T17:38:01.039038Z",
     "iopub.status.busy": "2021-11-08T17:38:01.038472Z",
     "iopub.status.idle": "2021-11-08T17:38:01.041084Z",
     "shell.execute_reply": "2021-11-08T17:38:01.040555Z"
    }
   },
   "outputs": [],
   "source": [
    "def slope_of(table, r):\n",
    "    \"\"\"Return the slope of the regression line for table in original units.\n",
    "    \n",
    "    Assume that column 0 contains x values and column 1 contains y values.\n",
    "    r is the regression coefficient for x and y.\n",
    "    \"\"\"\n",
    "    return r * np.std(table.column(1)) / np.std(table.column(0))\n",
    "\n",
    "def intercept_of(table, r):\n",
    "    \"\"\"Return the intercept of the regression line for table in original units.\"\"\"\n",
    "    slope = slope_of(table, r)\n",
    "    return slope * (-np.mean(table.column(0))) + np.mean(table.column(1))\n",
    "    \n",
    "below_3_slope = slope_of(below_3, below_3_r)\n",
    "below_3_intercept = intercept_of(below_3, below_3_r)\n",
    "above_3_slope = slope_of(above_3, above_3_r)\n",
    "above_3_intercept = intercept_of(above_3, above_3_r)\n",
    "\n",
    "def wait_below_3(duration):\n",
    "    return below_3_slope * duration + below_3_intercept\n",
    "\n",
    "def wait_above_3(duration):\n",
    "    return above_3_slope * duration + above_3_intercept"
   ]
  },
  {
   "cell_type": "code",
   "execution_count": 36,
   "id": "39dd6d07",
   "metadata": {
    "deletable": false,
    "editable": false
   },
   "outputs": [
    {
     "data": {
      "text/html": [
       "<p><strong><pre style='display: inline;'>q5_2</pre></strong> passed!</p>"
      ],
      "text/plain": [
       "q5_2 results: All test cases passed!"
      ]
     },
     "execution_count": 36,
     "metadata": {},
     "output_type": "execute_result"
    }
   ],
   "source": [
    "grader.check(\"q5_2\")"
   ]
  },
  {
   "cell_type": "markdown",
   "id": "1f43c99b",
   "metadata": {},
   "source": [
    "The plot below shows the two different regression lines, one for each cluster, along with the original regression line!"
   ]
  },
  {
   "cell_type": "code",
   "execution_count": 37,
   "id": "d2c6992b",
   "metadata": {
    "execution": {
     "iopub.execute_input": "2021-11-08T17:38:01.224090Z",
     "iopub.status.busy": "2021-11-08T17:38:01.221258Z",
     "iopub.status.idle": "2021-11-08T17:38:01.552563Z",
     "shell.execute_reply": "2021-11-08T17:38:01.551968Z"
    }
   },
   "outputs": [
    {
     "data": {
      "image/png": "[encoded data removed]",
      "text/plain": [
       "<Figure size 360x360 with 1 Axes>"
      ]
     },
     "metadata": {},
     "output_type": "display_data"
    }
   ],
   "source": [
    "faithful.scatter(0, 1)\n",
    "plots.plot([2, 5], [two_minute_predicted_waiting_time, five_minute_predicted_waiting_time])\n",
    "plots.plot([1, 3], [wait_below_3(1), wait_below_3(3)])\n",
    "plots.plot([3, 6], [wait_above_3(3), wait_above_3(6)]);"
   ]
  },
  {
   "cell_type": "markdown",
   "id": "eedac5f4",
   "metadata": {
    "deletable": false,
    "editable": false
   },
   "source": [
    "**Question 5.3.** Write a function `predict_wait` that takes a `duration` and returns the predicted wait time using the appropriate regression line, depending on whether the duration is below 3 or greater than (or equal to) 3.\n",
    "\n",
    "<!--\n",
    "BEGIN QUESTION\n",
    "name: q5_3\n",
    "-->"
   ]
  },
  {
   "cell_type": "code",
   "execution_count": 38,
   "id": "765d01b9",
   "metadata": {
    "execution": {
     "iopub.execute_input": "2021-11-08T17:38:01.557690Z",
     "iopub.status.busy": "2021-11-08T17:38:01.557151Z",
     "iopub.status.idle": "2021-11-08T17:38:01.559704Z",
     "shell.execute_reply": "2021-11-08T17:38:01.559245Z"
    },
    "for_assignment_type": "student"
   },
   "outputs": [],
   "source": [
    "def predict_wait(duration):\n",
    "    if duration < 3:\n",
    "        return wait_below_3(duration) \n",
    "    else:\n",
    "        return wait_above_3(duration)"
   ]
  },
  {
   "cell_type": "code",
   "execution_count": 39,
   "id": "e6597592",
   "metadata": {
    "deletable": false,
    "editable": false
   },
   "outputs": [
    {
     "data": {
      "text/html": [
       "<p><strong><pre style='display: inline;'>q5_3</pre></strong> passed!</p>"
      ],
      "text/plain": [
       "q5_3 results: All test cases passed!"
      ]
     },
     "execution_count": 39,
     "metadata": {},
     "output_type": "execute_result"
    }
   ],
   "source": [
    "grader.check(\"q5_3\")"
   ]
  },
  {
   "cell_type": "markdown",
   "id": "7acf0638",
   "metadata": {},
   "source": [
    "The predicted wait times for each point appear below."
   ]
  },
  {
   "cell_type": "code",
   "execution_count": 40,
   "id": "221f743f",
   "metadata": {
    "execution": {
     "iopub.execute_input": "2021-11-08T17:38:01.733996Z",
     "iopub.status.busy": "2021-11-08T17:38:01.725244Z",
     "iopub.status.idle": "2021-11-08T17:38:02.242694Z",
     "shell.execute_reply": "2021-11-08T17:38:02.242094Z"
    }
   },
   "outputs": [
    {
     "data": {
      "image/png": "[encoded data removed]",
      "text/plain": [
       "<Figure size 360x360 with 1 Axes>"
      ]
     },
     "metadata": {},
     "output_type": "display_data"
    }
   ],
   "source": [
    "faithful_pred_split = faithful.with_column('predicted', faithful.apply(predict_wait, 'duration'))\n",
    "faithful_pred_split.scatter(0)"
   ]
  },
  {
   "cell_type": "markdown",
   "id": "e6a20978",
   "metadata": {},
   "source": [
    "**Question 5.4.** Do you think the predictions produced by `predict_wait` would be more or less accurate than the predictions from the regression line you created in section 2? How could you tell?"
   ]
  },
  {
   "cell_type": "markdown",
   "id": "4b6e8125",
   "metadata": {},
   "source": [
    "Each line is more accurate because it is limited to the value of the cluster. To check, you can measure the average size of the residual value.\n"
   ]
  },
  {
   "cell_type": "markdown",
   "id": "99fd0936",
   "metadata": {},
   "source": [
    "The following cell will plot the residuals for each eruption in the dataset when we have one regression line and two regression lines. We also see the average magnitude of the residual values."
   ]
  },
  {
   "cell_type": "code",
   "execution_count": 41,
   "id": "c1bbd7c5",
   "metadata": {
    "execution": {
     "iopub.execute_input": "2021-11-08T17:38:02.253887Z",
     "iopub.status.busy": "2021-11-08T17:38:02.253288Z",
     "iopub.status.idle": "2021-11-08T17:38:02.921347Z",
     "shell.execute_reply": "2021-11-08T17:38:02.920875Z"
    },
    "scrolled": true
   },
   "outputs": [
    {
     "name": "stdout",
     "output_type": "stream",
     "text": [
      "Average Magnitude of Residual Values for One Regression Line:  4.778720058765493\n",
      "Average Magnitude of Residual Values for Two Regression Lines:  4.57575882719415\n"
     ]
    },
    {
     "data": {
      "image/png": "[encoded data removed]",
      "text/plain": [
       "<Figure size 432x288 with 1 Axes>"
      ]
     },
     "metadata": {},
     "output_type": "display_data"
    }
   ],
   "source": [
    "# Just run this cell\n",
    "faithful_pred_split_residuals = faithful_pred_split.with_column('residual', faithful_pred_split.column(1) - faithful_pred_split.column(2))\n",
    "plots.scatter(faithful_residuals.column('duration'), faithful_residuals.column('residual'), label='one regression line')\n",
    "plots.scatter(faithful_pred_split_residuals.column('duration'), faithful_pred_split_residuals.column('residual'), label='two regression lines');\n",
    "plots.axis([1, 6, -15, 15])\n",
    "plots.legend(bbox_to_anchor=(1.5,.8));\n",
    "print(\"Average Magnitude of Residual Values for One Regression Line: \", np.mean(abs(faithful_residuals.column('residual'))))\n",
    "print(\"Average Magnitude of Residual Values for Two Regression Lines: \", np.mean(abs(faithful_pred_split_residuals.column('residual'))))"
   ]
  },
  {
   "cell_type": "markdown",
   "id": "cff5c893",
   "metadata": {},
   "source": [
    "The residual plot for the wait times when they are predicted by two regression lines (red) doesn't really have a pattern, which confirms that it was also appropriate to use linear regression in our \"Divide and Conquer\" scenario. How do the two residual plots compare?"
   ]
  },
  {
   "cell_type": "markdown",
   "id": "c4fcad73",
   "metadata": {},
   "source": [
    "## 6. Submission\n",
    "\n",
    "Congratulations, you're done with Lab 9!  Be sure to \n",
    "- **Run all the tests** (the next cell has a shortcut for that), \n",
    "- **Save and Checkpoint** from the `File` menu,\n",
    "- **Run the cell at the bottom to download a .zip file and submit to Gradescope.**,\n",
    "- and if you are in lab, ask one of the staff members to check you off."
   ]
  },
  {
   "cell_type": "markdown",
   "id": "96533596",
   "metadata": {
    "deletable": false,
    "editable": false
   },
   "source": [
    "---\n",
    "\n",
    "To double-check your work, the cell below will rerun all of the autograder tests."
   ]
  },
  {
   "cell_type": "code",
   "execution_count": 42,
   "id": "e2e9c461",
   "metadata": {
    "deletable": false,
    "editable": false
   },
   "outputs": [
    {
     "data": {
      "text/plain": [
       "q1_0 results: All test cases passed!\n",
       "\n",
       "q1_3 results: All test cases passed!\n",
       "\n",
       "q1_5 results: All test cases passed!\n",
       "\n",
       "q1_6 results: All test cases passed!\n",
       "\n",
       "q2_1 results: All test cases passed!\n",
       "\n",
       "q2_2 results: All test cases passed!\n",
       "\n",
       "q3_1 results: All test cases passed!\n",
       "\n",
       "q3_2 results: All test cases passed!\n",
       "\n",
       "q3_3 results: All test cases passed!\n",
       "\n",
       "q4_1 results: All test cases passed!\n",
       "\n",
       "q5_1 results: All test cases passed!\n",
       "\n",
       "q5_2 results: All test cases passed!\n",
       "\n",
       "q5_3 results: All test cases passed!"
      ]
     },
     "execution_count": 42,
     "metadata": {},
     "output_type": "execute_result"
    }
   ],
   "source": [
    "grader.check_all()"
   ]
  },
  {
   "cell_type": "markdown",
   "id": "04732d4c",
   "metadata": {
    "deletable": false,
    "editable": false
   },
   "source": [
    "## Submission\n",
    "\n",
    "Make sure you have run all cells in your notebook in order before running the cell below, so that all images/graphs appear in the output. The cell below will generate a zip file for you to submit. **Please save before exporting!**"
   ]
  },
  {
   "cell_type": "code",
   "execution_count": null,
   "id": "2beeaa85",
   "metadata": {
    "deletable": false,
    "editable": false
   },
   "outputs": [],
   "source": [
    "# Save your notebook first, then run this cell to export your submission.\n",
    "grader.export(pdf=False, force_save=True)"
   ]
  },
  {
   "cell_type": "markdown",
   "id": "ed9065d3",
   "metadata": {},
   "source": [
    " "
   ]
  }
 ],
 "metadata": {
  "kernelspec": {
   "display_name": "Python 3 (ipykernel)",
   "language": "python",
   "name": "python3"
  },
  "language_info": {
   "codemirror_mode": {
    "name": "ipython",
    "version": 3
   },
   "file_extension": ".py",
   "mimetype": "text/x-python",
   "name": "python",
   "nbconvert_exporter": "python",
   "pygments_lexer": "ipython3",
   "version": "3.9.7"
  }
 },
 "nbformat": 4,
 "nbformat_minor": 5
}
